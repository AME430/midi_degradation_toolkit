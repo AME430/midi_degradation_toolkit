{
 "cells": [
  {
   "cell_type": "markdown",
   "metadata": {},
   "source": [
    "# Dataset Creation <a class=\"tocSkip\">"
   ]
  },
  {
   "cell_type": "markdown",
   "metadata": {
    "toc": true
   },
   "source": [
    "<h1>Table of Contents<span class=\"tocSkip\"></span></h1>\n",
    "<div class=\"toc\"><ul class=\"toc-item\"><li><span><a href=\"#Defining-input-data\" data-toc-modified-id=\"Defining-input-data-1\"><span class=\"toc-item-num\">1&nbsp;&nbsp;</span>Defining input data</a></span></li><li><span><a href=\"#Choosing-and-configuring-degradations\" data-toc-modified-id=\"Choosing-and-configuring-degradations-2\"><span class=\"toc-item-num\">2&nbsp;&nbsp;</span>Choosing and configuring degradations</a></span></li><li><span><a href=\"#Excerpt-length\" data-toc-modified-id=\"Excerpt-length-3\"><span class=\"toc-item-num\">3&nbsp;&nbsp;</span>Excerpt length</a></span></li><li><span><a href=\"#Reformatted-data---piano-roll-and-command\" data-toc-modified-id=\"Reformatted-data---piano-roll-and-command-4\"><span class=\"toc-item-num\">4&nbsp;&nbsp;</span>Reformatted data - piano roll and command</a></span></li><li><span><a href=\"#Reproducibility\" data-toc-modified-id=\"Reproducibility-5\"><span class=\"toc-item-num\">5&nbsp;&nbsp;</span>Reproducibility</a></span></li><li><span><a href=\"#Help\" data-toc-modified-id=\"Help-6\"><span class=\"toc-item-num\">6&nbsp;&nbsp;</span>Help</a></span></li></ul></div>"
   ]
  },
  {
   "cell_type": "markdown",
   "metadata": {},
   "source": [
    "We provide tools to create your own ACME datasets. You can:\n",
    "* Use your own midi or csv data, or pick from our configured data to automatically download\n",
    "* Choose what types of degradation to include, and supply parameters for them\n",
    "* Define how long the excerpts taken should be\n",
    "* Create re-formatted, compressed representations of the data\n",
    "* Ensure reproducibility\n",
    "\n",
    "If you want to degrade data on-the-fly, we also provide a `Degrader()` class which can be used in conjunction with a dataloader. This is described in a subsequent notebook [04_data_parsers_and_degrader.ipynb](./04_data_parsers_and_degrader.ipynb).\n",
    "\n",
    "In this notebook, we provide some example calls."
   ]
  },
  {
   "cell_type": "markdown",
   "metadata": {},
   "source": [
    "# Defining input data"
   ]
  },
  {
   "cell_type": "markdown",
   "metadata": {},
   "source": [
    "We have three datasets which will automatically download if specified: `['PPDDSep2018Monophonic', 'PPDDSep2018Polyphonic','PianoMidi']`. The default is to download and use them all. To not download them, set the `--datasets` argument to `None`.\n",
    "\n",
    "This command uses default parameters to create an acme dataset with just the `PianoMidi` dataset. It will take a few moments to run, and you can observe the output in adjacent folder called `./acme`."
   ]
  },
  {
   "cell_type": "code",
   "execution_count": null,
   "metadata": {},
   "outputs": [],
   "source": [
    "! python ../make_dataset.py --datasets PianoMidi "
   ]
  },
  {
   "cell_type": "markdown",
   "metadata": {},
   "source": [
    "If you dont want to use any automatic downloaders, you must **specify your own input data**. You can provide midi files, or csv data (in an expected format - see the introduction [01_the_ACME_dataset.ipynb](01_the_ACME_dataset.ipynb) for the expected format).\n",
    "\n",
    "The below command will create a very small dataset with some of the data which will have been cached if the first command in this notebook was run."
   ]
  },
  {
   "cell_type": "markdown",
   "metadata": {},
   "source": [
    "```bash\n",
    "make_dataset.py \\\n",
    "    --datasets None \\\n",
    "    --local-midi-dirs ~/.mdtk_cache/PianoMidi/brahms\n",
    "```"
   ]
  },
  {
   "cell_type": "markdown",
   "metadata": {},
   "source": [
    "# Choosing and configuring degradations"
   ]
  },
  {
   "cell_type": "markdown",
   "metadata": {},
   "source": [
    "See the next notebook, [03_degradation_functions.ipynb](03_degradation_functions.ipynb), for a full description of all the degradations available."
   ]
  },
  {
   "cell_type": "markdown",
   "metadata": {},
   "source": [
    "This call again works with the small brahms data and:\n",
    "* leaves 44% of the data clean (no degradation is applied)\n",
    "* selects only `pitch_shift` and `time_shift` degradations\n",
    "* attempts to perform these degradations at a ratio of 4 to 1 (sampling is done)\n",
    "* sets some paramters for the `pitch_shift` degradation"
   ]
  },
  {
   "cell_type": "markdown",
   "metadata": {},
   "source": [
    "```bash\n",
    "make_dataset.py \\\n",
    "    --datasets None \\\n",
    "    --local-midi-dirs ~/.mdtk_cache/PianoMidi/brahms \\\n",
    "    --clean-prop .44 \\\n",
    "    --degradations pitch_shift time_shift \\\n",
    "    --degradation-dist 4 1 \\\n",
    "    --degradation-kwargs '{\"pitch_shift__min_pitch\": 50, \"pitch_shift__max_pitch\": 80}' \\\n",
    "    --seed 42\n",
    "```"
   ]
  },
  {
   "cell_type": "markdown",
   "metadata": {},
   "source": [
    "# Excerpt length"
   ]
  },
  {
   "cell_type": "markdown",
   "metadata": {},
   "source": [
    "You can define the minimum length for an excerpt in milliseconds and number of notes (both conditions are honoured). Note that the defaults are `5000` and `10` respectively. See `mdtk.df_utils.get_random_excerpt` for full details of how the excerpt selection is done.\n",
    "\n",
    "This example produces excerpts of approximately 10 seconds in length, with a minimum of 20 notes in them."
   ]
  },
  {
   "cell_type": "markdown",
   "metadata": {},
   "source": [
    "```bash\n",
    "make_dataset.py \\\n",
    "    --datasets None \\\n",
    "    --local-midi-dirs ~/.mdtk_cache/PianoMidi/brahms \\\n",
    "    --excerpt-length 10000 \\\n",
    "    --min-notes 20\n",
    "```"
   ]
  },
  {
   "cell_type": "markdown",
   "metadata": {},
   "source": [
    "# Reformatted data - piano roll and command"
   ]
  },
  {
   "cell_type": "markdown",
   "metadata": {},
   "source": [
    "By, default, we create compressed data which is reformatted for easy loading to models. This can be turned off by setting `--formats None`."
   ]
  },
  {
   "cell_type": "markdown",
   "metadata": {},
   "source": [
    "```bash\n",
    "make_dataset.py \\\n",
    "    --datasets None \\\n",
    "    --local-midi-dirs ~/.mdtk_cache/PianoMidi/brahms \\\n",
    "    --formats None\n",
    "```"
   ]
  },
  {
   "cell_type": "markdown",
   "metadata": {},
   "source": [
    "We discuss the format data in a subsequent notebook: [04_data_parsers_and_degrader.ipynb](./04_data_parsers_and_degrader.ipynb)."
   ]
  },
  {
   "cell_type": "markdown",
   "metadata": {},
   "source": [
    "# Reproducibility"
   ]
  },
  {
   "cell_type": "markdown",
   "metadata": {},
   "source": [
    "To ensure that you get the same result when you run the script again, set the `--seed` parameter. This must be a number between `0` and `2**32 - 1`."
   ]
  },
  {
   "cell_type": "markdown",
   "metadata": {},
   "source": [
    "```bash\n",
    "make_dataset.py --seed 42\n",
    "```"
   ]
  },
  {
   "cell_type": "markdown",
   "metadata": {},
   "source": [
    "# Help"
   ]
  },
  {
   "cell_type": "code",
   "execution_count": null,
   "metadata": {},
   "outputs": [],
   "source": [
    "! ../make_dataset.py -h"
   ]
  }
 ],
 "metadata": {
  "kernelspec": {
   "display_name": "Python 3",
   "language": "python",
   "name": "python3"
  },
  "language_info": {
   "codemirror_mode": {
    "name": "ipython",
    "version": 3
   },
   "file_extension": ".py",
   "mimetype": "text/x-python",
   "name": "python",
   "nbconvert_exporter": "python",
   "pygments_lexer": "ipython3",
   "version": "3.8.5"
  },
  "toc": {
   "base_numbering": 1,
   "nav_menu": {},
   "number_sections": true,
   "sideBar": true,
   "skip_h1_title": false,
   "title_cell": "Table of Contents",
   "title_sidebar": "Contents",
   "toc_cell": true,
   "toc_position": {},
   "toc_section_display": true,
   "toc_window_display": false
  },
  "toc-autonumbering": false
 },
 "nbformat": 4,
 "nbformat_minor": 4
}
