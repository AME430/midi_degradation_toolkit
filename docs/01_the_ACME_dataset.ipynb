{
 "cells": [
  {
   "cell_type": "markdown",
   "metadata": {},
   "source": [
    "# The ACME Dataset <a class=\"tocSkip\">"
   ]
  },
  {
   "cell_type": "markdown",
   "metadata": {
    "toc": true
   },
   "source": [
    "<h1>Table of Contents<span class=\"tocSkip\"></span></h1>\n",
    "<div class=\"toc\"><ul class=\"toc-item\"><li><span><a href=\"#Getting-the-data\" data-toc-modified-id=\"Getting-the-data-1\"><span class=\"toc-item-num\">1&nbsp;&nbsp;</span>Getting the data</a></span></li><li><span><a href=\"#The-data\" data-toc-modified-id=\"The-data-2\"><span class=\"toc-item-num\">2&nbsp;&nbsp;</span>The data</a></span></li><li><span><a href=\"#The-metadata\" data-toc-modified-id=\"The-metadata-3\"><span class=\"toc-item-num\">3&nbsp;&nbsp;</span>The metadata</a></span></li><li><span><a href=\"#Details-to-note-and-summary-statistics\" data-toc-modified-id=\"Details-to-note-and-summary-statistics-4\"><span class=\"toc-item-num\">4&nbsp;&nbsp;</span>Details to note and summary statistics</a></span><ul class=\"toc-item\"><li><span><a href=\"#Initial-onset-time\" data-toc-modified-id=\"Initial-onset-time-4.1\"><span class=\"toc-item-num\">4.1&nbsp;&nbsp;</span>Initial onset time</a></span></li><li><span><a href=\"#Excerpt-lengths\" data-toc-modified-id=\"Excerpt-lengths-4.2\"><span class=\"toc-item-num\">4.2&nbsp;&nbsp;</span>Excerpt lengths</a></span></li></ul></li><li><span><a href=\"#Compressed-data-for-modelling\" data-toc-modified-id=\"Compressed-data-for-modelling-5\"><span class=\"toc-item-num\">5&nbsp;&nbsp;</span>Compressed data for modelling</a></span></li></ul></div>"
   ]
  },
  {
   "cell_type": "code",
   "execution_count": null,
   "metadata": {},
   "outputs": [],
   "source": [
    "import logging\n",
    "from pathlib import Path\n",
    "\n",
    "import random\n",
    "import matplotlib.pyplot as plt\n",
    "import pandas as pd\n",
    "import seaborn as sns\n",
    "from IPython.display import display\n",
    "from tqdm import tqdm\n",
    "\n",
    "import mdtk\n",
    "from mdtk.fileio import COLNAMES, csv_to_df\n",
    "from utils import download_file, unzip_file, plot_from_df\n",
    "\n",
    "LOGGER = logging.getLogger()"
   ]
  },
  {
   "cell_type": "markdown",
   "metadata": {},
   "source": [
    "# Getting the data"
   ]
  },
  {
   "cell_type": "markdown",
   "metadata": {},
   "source": [
    "First, let's obtain the acme dataset, and unzip it adjacent to this file."
   ]
  },
  {
   "cell_type": "code",
   "execution_count": null,
   "metadata": {},
   "outputs": [],
   "source": [
    "url = f\"https://github.com/JamesOwers/ACME/raw/master/ACMEv1.0.zip\"\n",
    "download_file(url)\n",
    "unzip_file(\"ACMEv1.0.zip\")"
   ]
  },
  {
   "cell_type": "markdown",
   "metadata": {},
   "source": [
    "The dataset should now exist at a directory called `ACMEv1.0/acme`, adjacent to this notebook. The contents are as follows:\n",
    "\n",
    "* `clean` - contains the extracted clean excerpts as csv files\n",
    "* `altered` - contains the excerpts as csv files altered by the degradations described in `metadata.csv`\n",
    "\n",
    "`metadata.csv` describes:\n",
    "\n",
    "* (the id number for) the type of degradation used for the alteration\n",
    "* the path for the altered and clean files\n",
    "* which split (train, valid, test) the file should be used in\n",
    "* in which corpus csv and on what line the file is located\n",
    "\n",
    "`degradation_ids.csv` is a mapping of degradation name to the id number used in `metadata.csv`\n",
    "\n",
    "The `{train,valid,test}_cmd_corpus.csv` are command-based (note_on, note_off, shift) versions of the acme data more convenient for our provided pytorch Dataset classes avaialble in the [MIDI Degradation Toolkit](https://github.com/JamesOwers/midi_degradation_toolkit).\n",
    "\n",
    "Similarly, `{train,valid,test}_pr_corpus.csv` are piano-roll-based versions of the acme data more convenient for our provided pytorch Dataset classes avaialble in the [MIDI Degradation Toolkit](https://github.com/JamesOwers/midi_degradation_toolkit)."
   ]
  },
  {
   "cell_type": "code",
   "execution_count": null,
   "metadata": {},
   "outputs": [],
   "source": [
    "acme_root = Path(\"ACMEv1.0\", \"acme\")"
   ]
  },
  {
   "cell_type": "markdown",
   "metadata": {},
   "source": [
    "# The data"
   ]
  },
  {
   "cell_type": "markdown",
   "metadata": {},
   "source": [
    "First let's look at the way the excerpts are stored as csvs. We call each of these a Note DataFrame, or a `note_df`, and they are an ordered list of the notes which have occurred in the excerpt.\n",
    "\n",
    "Here's a random clean excerpt:"
   ]
  },
  {
   "cell_type": "code",
   "execution_count": null,
   "metadata": {},
   "outputs": [],
   "source": [
    "random.seed(1337)\n",
    "rand_filepath = random.choice(list(Path(acme_root).glob(\"clean/**/*.csv\")))\n",
    "rand_filepath"
   ]
  },
  {
   "cell_type": "markdown",
   "metadata": {},
   "source": [
    "The columns are:\n",
    "1. onset time of the note in ms\n",
    "2. the track used to play the note (read: instrument)\n",
    "3. the MIDI pitch number (60 is C4)\n",
    "4. the duration of the note in ms"
   ]
  },
  {
   "cell_type": "code",
   "execution_count": null,
   "metadata": {},
   "outputs": [],
   "source": [
    "df = pd.read_csv(rand_filepath, names=[\"onset\", \"track\", \"pitch\", \"dur\"])\n",
    "with pd.option_context(\"display.max_rows\", 10):\n",
    "    display(df)"
   ]
  },
  {
   "cell_type": "code",
   "execution_count": null,
   "metadata": {},
   "outputs": [],
   "source": [
    "plot_from_df(df)"
   ]
  },
  {
   "cell_type": "markdown",
   "metadata": {},
   "source": [
    "Each excerpt has a matching degraded version (excluding those which are not degraded!)"
   ]
  },
  {
   "cell_type": "code",
   "execution_count": null,
   "metadata": {},
   "outputs": [],
   "source": [
    "alt_path = Path(*rand_filepath.parts[:-3], \"altered\", *rand_filepath.parts[-2:])\n",
    "alt_path"
   ]
  },
  {
   "cell_type": "code",
   "execution_count": null,
   "metadata": {},
   "outputs": [],
   "source": [
    "alt_df = pd.read_csv(alt_path, names=[\"onset\", \"track\", \"pitch\", \"dur\"])\n",
    "with pd.option_context(\"display.max_rows\", 10):\n",
    "    display(alt_df)\n",
    "plot_from_df(alt_df)"
   ]
  },
  {
   "cell_type": "markdown",
   "metadata": {},
   "source": [
    "Can you see where it has been altered?! There is only one degradation applied to each altered example."
   ]
  },
  {
   "cell_type": "markdown",
   "metadata": {},
   "source": [
    "# The metadata"
   ]
  },
  {
   "cell_type": "markdown",
   "metadata": {},
   "source": [
    "All the information about how the excerpts have been degraded is contained within `metadata.csv`. The names of the degradations are in `degredation_ids.csv`. Each row of `metadata.csv` gives the following information for each excerpt:\n",
    "* the clean and altered path (relative to the root directory),\n",
    "* a flag showing if the excerpt was degraded, and which degradation was used,\n",
    "* and the location of the data within the compressed corpus files (more on these later).\n",
    "\n",
    "These can be used by a data parser to get the required input data, labels, or target data required.\n"
   ]
  },
  {
   "cell_type": "code",
   "execution_count": null,
   "metadata": {},
   "outputs": [],
   "source": [
    "meta_df = pd.read_csv(Path(acme_root, \"metadata.csv\"))\n",
    "display(meta_df.dtypes)\n",
    "meta_df.head()"
   ]
  },
  {
   "cell_type": "code",
   "execution_count": null,
   "metadata": {},
   "outputs": [],
   "source": [
    "deg_df = pd.read_csv(Path(acme_root, \"degradation_ids.csv\"), index_col=\"id\")\n",
    "deg_df"
   ]
  },
  {
   "cell_type": "markdown",
   "metadata": {},
   "source": [
    "For example, taking a few random rows from the metadata:"
   ]
  },
  {
   "cell_type": "code",
   "execution_count": null,
   "metadata": {},
   "outputs": [],
   "source": [
    "random.seed(1337)\n",
    "idx_sample = random.sample(range(len(meta_df)), 4)\n",
    "idx_sample"
   ]
  },
  {
   "cell_type": "code",
   "execution_count": null,
   "metadata": {},
   "outputs": [],
   "source": [
    "def inspect_by_index(idx, meta_df):\n",
    "    excerpt_meta = meta_df.loc[idx]\n",
    "    deg_name = deg_df.loc[excerpt_meta.degradation_id, \"degradation_name\"]\n",
    "    clean_path = acme_root / Path(excerpt_meta[\"clean_csv_path\"])\n",
    "    alt_path = acme_root / Path(excerpt_meta[\"altered_csv_path\"])\n",
    "    clean_df = csv_to_df(clean_path)\n",
    "    alt_df = csv_to_df(alt_path)\n",
    "    fig, (ax0, ax1) = plt.subplots(1, 2, figsize=(12, 4), sharex=True, sharey=True)\n",
    "    plot_from_df(clean_df, ax=ax0)\n",
    "    ax0.set_title(\"clean\")\n",
    "    plot_from_df(alt_df, ax=ax1)\n",
    "    ax1.set_title(\"altered\")\n",
    "    title = f\"Degradataion: {deg_name}, excerpt index: {idx}\"\n",
    "    plt.suptitle(title)\n",
    "    plt.tight_layout()\n",
    "\n",
    "\n",
    "for idx in idx_sample:\n",
    "    inspect_by_index(idx, meta_df)"
   ]
  },
  {
   "cell_type": "markdown",
   "metadata": {},
   "source": [
    "# Details to note and summary statistics"
   ]
  },
  {
   "cell_type": "markdown",
   "metadata": {},
   "source": [
    "Most details are included in the paper in section 3. But we outline details here too."
   ]
  },
  {
   "cell_type": "markdown",
   "metadata": {},
   "source": [
    "* all excerpts are approximately 5 seconds long\n",
    "\n",
    "* the onset time for the excerpt doesn't match the file it was taken from,\n",
    "* but the onset times of the clean and altered examples are aligned\n",
    "* a random amount of silence was added to the start of each excerpt to allow for the first note to be degraded\n",
    "* an equal proportion of all the degradations"
   ]
  },
  {
   "cell_type": "code",
   "execution_count": null,
   "metadata": {},
   "outputs": [],
   "source": [
    "all_clean_df = [\n",
    "    csv_to_df(acme_root / Path(path)) for path in tqdm(meta_df.clean_csv_path)\n",
    "]\n",
    "# N.B. this includes clean dfs if deg is None\n",
    "all_alt_df = [\n",
    "    csv_to_df(acme_root / Path(path)) for path in tqdm(meta_df.altered_csv_path)\n",
    "]"
   ]
  },
  {
   "cell_type": "markdown",
   "metadata": {},
   "source": [
    "## Initial onset time"
   ]
  },
  {
   "cell_type": "markdown",
   "metadata": {},
   "source": [
    "The inital onsets are uniformly distributed between 0 and 200 ms"
   ]
  },
  {
   "cell_type": "code",
   "execution_count": null,
   "metadata": {},
   "outputs": [],
   "source": [
    "clean_first_onsets = [df.at[0, \"onset\"] for df in tqdm(all_clean_df)]\n",
    "alt_first_onsets = [df.at[0, \"onset\"] for df in tqdm(all_alt_df)]"
   ]
  },
  {
   "cell_type": "code",
   "execution_count": null,
   "metadata": {},
   "outputs": [],
   "source": [
    "sns.distplot(clean_first_onsets)\n",
    "plt.title(f\"min: {min(clean_first_onsets)}, max: {max(clean_first_onsets)}\")\n",
    "plt.xlabel(\"first onset time (ms)\")\n",
    "plt.show()"
   ]
  },
  {
   "cell_type": "markdown",
   "metadata": {},
   "source": [
    "For each excerpt, if we observe the difference between the first onsets, we see they are normally the same, but that some degradations alter the first note in some way, causing a difference."
   ]
  },
  {
   "cell_type": "code",
   "execution_count": null,
   "metadata": {},
   "outputs": [],
   "source": [
    "diff_first_onsets = [\n",
    "    alt - clean for alt, clean in zip(alt_first_onsets, clean_first_onsets)\n",
    "]"
   ]
  },
  {
   "cell_type": "code",
   "execution_count": null,
   "metadata": {},
   "outputs": [],
   "source": [
    "sns.countplot([diff == 0 for diff in diff_first_onsets])\n",
    "plt.xlabel(\"Clean and altered excerpts have the same first onset\")\n",
    "plt.show()"
   ]
  },
  {
   "cell_type": "code",
   "execution_count": null,
   "metadata": {},
   "outputs": [],
   "source": [
    "sns.distplot(diff_first_onsets)\n",
    "plt.title(f\"min: {min(diff_first_onsets)}, max: {max(diff_first_onsets)}\")\n",
    "plt.xlabel(\"alt first onset - clean first onset\")\n",
    "plt.show()"
   ]
  },
  {
   "cell_type": "code",
   "execution_count": null,
   "metadata": {},
   "outputs": [],
   "source": [
    "nonzero_diffs = [diff for diff in diff_first_onsets if diff != 0]\n",
    "print(\n",
    "    f\"There are {len(nonzero_diffs)} examples where the onset time of the \"\n",
    "    \"clean and altered excerpt are not the same\"\n",
    ")\n",
    "sns.distplot(nonzero_diffs)\n",
    "plt.title(f\"min: {min(nonzero_diffs)}, max: {max(nonzero_diffs)}\")\n",
    "plt.xlabel(\"alt first onset - clean first onset (non-zero only)\")\n",
    "plt.show()"
   ]
  },
  {
   "cell_type": "markdown",
   "metadata": {},
   "source": [
    "Let's have a look at the most extreme examples where then onset of the clean and altered versions differ the most."
   ]
  },
  {
   "cell_type": "code",
   "execution_count": null,
   "metadata": {},
   "outputs": [],
   "source": [
    "def argmax(sequence):\n",
    "    _, idx = max((val, idx) for idx, val in enumerate(sequence))\n",
    "    return idx\n",
    "\n",
    "\n",
    "def argmin(sequence):\n",
    "    _, idx = min((val, idx) for idx, val in enumerate(sequence))\n",
    "    return idx"
   ]
  },
  {
   "cell_type": "code",
   "execution_count": null,
   "metadata": {},
   "outputs": [],
   "source": [
    "inspect_by_index(argmax(diff_first_onsets), meta_df)"
   ]
  },
  {
   "cell_type": "code",
   "execution_count": null,
   "metadata": {},
   "outputs": [],
   "source": [
    "inspect_by_index(argmin(diff_first_onsets), meta_df)"
   ]
  },
  {
   "cell_type": "code",
   "execution_count": null,
   "metadata": {},
   "outputs": [],
   "source": [
    "nonzero_diff_idx = [idx for idx, diff in enumerate(diff_first_onsets) if diff != 0]"
   ]
  },
  {
   "cell_type": "code",
   "execution_count": null,
   "metadata": {},
   "outputs": [],
   "source": [
    "meta_df[\"degradation_str\"] = meta_df.degradation_id.apply(lambda x: deg_df.loc[x])"
   ]
  },
  {
   "cell_type": "code",
   "execution_count": null,
   "metadata": {},
   "outputs": [],
   "source": [
    "sns.countplot(meta_df.loc[nonzero_diff_idx, \"degradation_str\"])\n",
    "plt.title(\"Degradation types which cause nonzero onset differences\")\n",
    "plt.show()"
   ]
  },
  {
   "cell_type": "markdown",
   "metadata": {},
   "source": [
    "## Excerpt lengths"
   ]
  },
  {
   "cell_type": "markdown",
   "metadata": {},
   "source": [
    "The code for selecting excerpts from a whole piece is `mdtk.df_utils.get_random_excerpt`.\n",
    "\n",
    "By default, and as used for ACMEv1.0, we select an  ~5 second excerpt from each piece by choosing a random note and all notes beginning in the subsequent 5 seconds, but require that at least 10 notes be present. The excerpt ends when the last held note is released.\n",
    "\n",
    "As such, if there are notes held for a long time, or if there are relatively few notes within the selected 5 second window, the excerpt may be longer or shorter than 5 seconds respectively."
   ]
  },
  {
   "cell_type": "code",
   "execution_count": null,
   "metadata": {},
   "outputs": [],
   "source": [
    "?mdtk.df_utils.get_random_excerpt"
   ]
  },
  {
   "cell_type": "code",
   "execution_count": null,
   "metadata": {},
   "outputs": [],
   "source": [
    "clean_last_offsets = [(df[\"onset\"] + df[\"dur\"]).max() for df in tqdm(all_clean_df)]\n",
    "alt_last_offsets = [(df[\"onset\"] + df[\"dur\"]).max() for df in tqdm(all_alt_df)]"
   ]
  },
  {
   "cell_type": "code",
   "execution_count": null,
   "metadata": {},
   "outputs": [],
   "source": [
    "clean_dur = [\n",
    "    last_off - first_on for first_on, last_off in \n",
    "    zip(clean_first_onsets, clean_last_offsets)\n",
    "]"
   ]
  },
  {
   "cell_type": "code",
   "execution_count": null,
   "metadata": {},
   "outputs": [],
   "source": [
    "sns.distplot(clean_dur)\n",
    "plt.title(f\"min: {min(clean_dur)}, max: {max(clean_dur)}\")\n",
    "plt.xlabel(\"excerpt duration (ms)\")\n",
    "plt.show()"
   ]
  },
  {
   "cell_type": "code",
   "execution_count": null,
   "metadata": {},
   "outputs": [],
   "source": [
    "inspect_by_index(argmax(clean_dur), meta_df)"
   ]
  },
  {
   "cell_type": "code",
   "execution_count": null,
   "metadata": {},
   "outputs": [],
   "source": [
    "inspect_by_index(argmin(clean_dur), meta_df)"
   ]
  },
  {
   "cell_type": "markdown",
   "metadata": {},
   "source": [
    "# Compressed data for modelling"
   ]
  },
  {
   "cell_type": "markdown",
   "metadata": {},
   "source": [
    "We have also provided data in two other formats - piano roll and command format. We detail these in a subsequent notebook: [04_data_parsers_and_degrader.ipynb](./04_data_parsers_and_degrader.ipynb)."
   ]
  }
 ],
 "metadata": {
  "kernelspec": {
   "display_name": "Python 3",
   "language": "python",
   "name": "python3"
  },
  "language_info": {
   "codemirror_mode": {
    "name": "ipython",
    "version": 3
   },
   "file_extension": ".py",
   "mimetype": "text/x-python",
   "name": "python",
   "nbconvert_exporter": "python",
   "pygments_lexer": "ipython3",
   "version": "3.8.5"
  },
  "toc": {
   "base_numbering": 1,
   "nav_menu": {},
   "number_sections": true,
   "sideBar": true,
   "skip_h1_title": false,
   "title_cell": "Table of Contents",
   "title_sidebar": "Contents",
   "toc_cell": true,
   "toc_position": {},
   "toc_section_display": true,
   "toc_window_display": false
  },
  "toc-autonumbering": true,
  "toc-showtags": false
 },
 "nbformat": 4,
 "nbformat_minor": 4
}
